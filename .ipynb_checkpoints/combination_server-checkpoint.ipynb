{
 "cells": [
  {
   "cell_type": "code",
   "execution_count": null,
   "id": "448b48bd",
   "metadata": {},
   "outputs": [],
   "source": [
    "import requests\n",
    "import base64\n",
    "import cv2\n",
    "import numpy as np\n",
    "import io\n",
    "import json\n",
    "from flask import Flask, jsonify, request\n",
    "from PIL import Image"
   ]
  },
  {
   "cell_type": "code",
   "execution_count": null,
   "id": "e4566abb",
   "metadata": {},
   "outputs": [],
   "source": [
    "def sketch_thick(img_path):\n",
    "    target_url = \"http://localhost:8895/sketch_thick\"\n",
    "\n",
    "    dict = {}\n",
    "    dict['path'] = img_path\n",
    "\n",
    "    response = requests.post(target_url, data=json.dumps(dict))\n",
    "\n",
    "    data = json.loads(response.text)\n",
    "    src = data['output_path']\n",
    "\n",
    "    img = cv2.imread(src)\n",
    "\n",
    "    return img, src"
   ]
  },
  {
   "cell_type": "code",
   "execution_count": null,
   "id": "dceeef0b",
   "metadata": {},
   "outputs": [],
   "source": [
    "def img_to_imgpath(img):\n",
    "    path = '/home/ubuntu/workspace/kobaco/sketchy/U-2-Net/test_post.png'\n",
    "    cv2.imwrite(path, img)\n",
    "    \n",
    "    return path"
   ]
  },
  {
   "cell_type": "code",
   "execution_count": null,
   "id": "b76eee15",
   "metadata": {},
   "outputs": [],
   "source": [
    "def cartoonize(img):\n",
    "    target_url = \"http://localhost:8894/predict\"\n",
    "\n",
    "    _, img_encoded = cv2.imencode('.jpg', img, params=[cv2.IMWRITE_JPEG_QUALITY, 50])\n",
    "    img = cv2.imdecode(img_encoded, 1)\n",
    "    # send http request with image and receive response\n",
    "    jpg_as_text = base64.b64encode(img_encoded).decode()\n",
    "    dict = {}\n",
    "    dict['image'] = jpg_as_text\n",
    "\n",
    "    response = requests.post(target_url, data=json.dumps(dict))\n",
    "\n",
    "    lists = json.loads(response.text)\n",
    "    jpg_original = base64.b64decode(lists[0]['image'])\n",
    "    jpg_as_np = np.frombuffer(jpg_original, dtype=np.uint8)\n",
    "    img = cv2.imdecode(jpg_as_np, flags=1)\n",
    "\n",
    "    path = img_to_imgpath(img)\n",
    "    \n",
    "    return img, path"
   ]
  },
  {
   "cell_type": "code",
   "execution_count": null,
   "id": "a759b466",
   "metadata": {},
   "outputs": [],
   "source": [
    "def remove_bg(img_path):\n",
    "    target_url = \"http://localhost:8895/remove_bg\"\n",
    "\n",
    "    dict = {}\n",
    "    dict['img_path'] = img_path\n",
    "\n",
    "    response = requests.post(target_url, data=json.dumps(dict))\n",
    "\n",
    "    data = json.loads(response.text)\n",
    "#     print(data)\n",
    "\n",
    "    img = cv2.imread(data)\n",
    "    return img, data"
   ]
  },
  {
   "cell_type": "code",
   "execution_count": null,
   "id": "7b21951b",
   "metadata": {},
   "outputs": [],
   "source": [
    "\n",
    "\n",
    "app = Flask(__name__)\n",
    "\n",
    "    \n",
    "@app.route('/sketch', methods=['POST'])\n",
    "def sketch():\n",
    "    if request.method == 'POST':\n",
    "        \n",
    "        #load request\n",
    "        r = request\n",
    "        data_json = r.data\n",
    "        data_dict = json.loads(data_json)\n",
    "\n",
    "        file_path = data_dict['img_path']\n",
    "        \n",
    "        img = cv2.imread(file_path)\n",
    "        path = file_path\n",
    "\n",
    "        # resize\n",
    "        h, w = img.shape[:2]\n",
    "        r = 360 / float(h)\n",
    "        dim = (int(w * r), 360)\n",
    "        resized_img = cv2.resize(img, dim, interpolation = cv2.INTER_AREA)\n",
    "        \n",
    "        #cartoonize\n",
    "        img1, path1 = cartoonize(resized_img)\n",
    "        img1 = cv2.resize(img1, (w, h))\n",
    "        cv2.imwrite(path1, img1)\n",
    "\n",
    "        #sketch\n",
    "        img2, path2 = sketch_thick(path1)\n",
    "   \n",
    "        #cartoonize\n",
    "        img3, path3 = cartoonize(img2)\n",
    "        \n",
    "        #write image\n",
    "#         out_path = '/home/ubuntu/workspace/kobaco/sketchy/U-2-Net/test_data/test_portrait_images/api_results/api_image.png'\n",
    "#         cv2.imwrite(out_path, img3)\n",
    "        \n",
    "        #return path\n",
    "        result_dict = {}\n",
    "        result_dict['output_path'] = path3\n",
    "        return jsonify(result_dict)\n",
    "\n",
    "# img, path = remove_bg(path)\n",
    "\n",
    "# img, path = cartoonize(img)\n",
    "\n",
    "# img, path = sketch_thick(path)"
   ]
  },
  {
   "cell_type": "code",
   "execution_count": null,
   "id": "a595fe25",
   "metadata": {
    "scrolled": true
   },
   "outputs": [],
   "source": [
    "if __name__ == '__main__':\n",
    "    app.run(host='0.0.0.0', port=8933, debug=False)"
   ]
  },
  {
   "cell_type": "code",
   "execution_count": null,
   "id": "f0a8465d",
   "metadata": {},
   "outputs": [],
   "source": []
  },
  {
   "cell_type": "code",
   "execution_count": null,
   "id": "f10ad342",
   "metadata": {},
   "outputs": [],
   "source": []
  }
 ],
 "metadata": {
  "kernelspec": {
   "display_name": "Python 3",
   "language": "python",
   "name": "python3"
  },
  "language_info": {
   "codemirror_mode": {
    "name": "ipython",
    "version": 3
   },
   "file_extension": ".py",
   "mimetype": "text/x-python",
   "name": "python",
   "nbconvert_exporter": "python",
   "pygments_lexer": "ipython3",
   "version": "3.8.5"
  }
 },
 "nbformat": 4,
 "nbformat_minor": 5
}
