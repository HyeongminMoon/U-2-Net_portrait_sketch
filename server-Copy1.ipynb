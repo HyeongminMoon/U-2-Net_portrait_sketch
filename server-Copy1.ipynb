{
 "cells": [
  {
   "cell_type": "code",
   "execution_count": 1,
   "id": "2322d0d8",
   "metadata": {},
   "outputs": [],
   "source": [
    "import os\n",
    "\n",
    "import argparse\n",
    "import torch\n",
    "import torch.backends.cudnn as cudnn\n",
    "import numpy as np\n",
    "import cv2\n",
    "from glob import glob\n",
    "from tqdm import tqdm\n",
    "import pandas as pd\n",
    "import requests\n",
    "\n",
    "import json\n",
    "import base64\n",
    "\n",
    "import io\n",
    "import json\n",
    "from flask import Flask, jsonify, request\n",
    "from PIL import Image\n",
    "import csv\n",
    "from model import U2NET\n",
    "from torch.autograd import Variable\n",
    "\n",
    "app = Flask(__name__)"
   ]
  },
  {
   "cell_type": "code",
   "execution_count": 3,
   "id": "40e2d305",
   "metadata": {},
   "outputs": [
    {
     "name": "stdout",
     "output_type": "stream",
     "text": [
      "-------------------------\n"
     ]
    }
   ],
   "source": [
    "parser = argparse.ArgumentParser(description=\"image and portrait composite\")\n",
    "# parser.add_argument('-p',default='./test_data/test_portrait_images/your_portrait_im', help='input image folder path')\n",
    "parser.add_argument('-o',default='/home/ubuntu/workspace/kobaco/sketchy/U-2-Net/test_data/test_portrait_images/api_results', help='output path')\n",
    "parser.add_argument('-m1',default='/home/ubuntu/workspace/kobaco/sketchy/U-2-Net/saved_models/best/train_custom_erode2/u2net_erode_bce_itr_70000_train_0.823957_tar_0.075138.pth', help='model path')\n",
    "parser.add_argument('-m2',default='/home/ubuntu/workspace/kobaco/sketchy/U-2-Net/saved_models/best/train_custom_newface/custom_newface_bce_itr_45000_train_0.120974_tar_0.005013.pth', help='model path')\n",
    "parser.add_argument('-m3',default='/home/ubuntu/workspace/kobaco/sketchy/U-2-Net/saved_models/best/seg_detection/u2net_human_seg.pth', help='model path')\n",
    "parser.add_argument('-f')\n",
    "\n",
    "args = parser.parse_args()\n",
    "\n",
    "model_dir_thin = args.m1\n",
    "model_dir_thick = args.m2\n",
    "model_dir_nobg = args.m3\n",
    "\n",
    "# if torch.cuda.is_available():\n",
    "#     torch.cuda.set_device(2)\n",
    "# print(torch.cuda.current_device())   \n",
    "\n",
    "net = U2NET(3,1)\n",
    "\n",
    "torch_dict_thin = torch.load(model_dir_thin)\n",
    "torch_dict_thick = torch.load(model_dir_thick)\n",
    "torch_dict_nobg = torch.load(model_dir_nobg)\n",
    "\n",
    "# if torch.cuda.is_available():\n",
    "#     net.cuda()\n",
    "\n",
    "device = 'cuda:2'\n",
    "\n",
    "\n",
    "net.to(device)\n",
    "\n",
    "with torch.no_grad():\n",
    "    net.eval()\n",
    "    \n",
    "print('-------------------------')\n",
    "\n",
    "def normPRED(d):\n",
    "    ma = torch.max(d)\n",
    "    mi = torch.min(d)\n",
    "\n",
    "    dn = (d-mi)/(ma-mi)\n",
    "\n",
    "    return dn\n",
    "\n",
    "def inference(net,input):\n",
    "\n",
    "    # normalize the input\n",
    "    tmpImg = np.zeros((input.shape[0],input.shape[1],3))\n",
    "    input = input/np.max(input)\n",
    "\n",
    "    tmpImg[:,:,0] = (input[:,:,2]-0.406)/0.225\n",
    "    tmpImg[:,:,1] = (input[:,:,1]-0.456)/0.224\n",
    "    tmpImg[:,:,2] = (input[:,:,0]-0.485)/0.229\n",
    "\n",
    "    # convert BGR to RGB\n",
    "    tmpImg = tmpImg.transpose((2, 0, 1))\n",
    "    tmpImg = tmpImg[np.newaxis,:,:,:]\n",
    "    tmpImg = torch.from_numpy(tmpImg)\n",
    "\n",
    "    # convert numpy array to torch tensor\n",
    "    tmpImg = tmpImg.type(torch.FloatTensor)\n",
    "    tmpImg = tmpImg.to(device)\n",
    "#     if torch.cuda.is_available():\n",
    "#         tmpImg = Variable(tmpImg.cuda())\n",
    "#     else:\n",
    "    tmpImg = Variable(tmpImg)\n",
    "\n",
    "    # inference\n",
    "    d1,d2,d3,d4,d5,d6,d7= net(tmpImg)\n",
    "\n",
    "    # normalization\n",
    "    pred = 1.0 - d1[:,0,:,:]\n",
    "    pred = normPRED(pred)\n",
    "\n",
    "    # convert torch tensor to numpy array\n",
    "    pred = pred.squeeze()\n",
    "    pred = pred.cpu().data.numpy()\n",
    "\n",
    "    del d1,d2,d3,d4,d5,d6,d7\n",
    "\n",
    "    return pred\n",
    "\n",
    "target_url = \"http://localhost:8912/predict\"\n",
    "\n",
    "def detect_single_face(img):\n",
    "#     img = cv2.imread('/home/ubuntu/workspace/kobaco/sketchy/U-2-Net/train_data/im2/804486H01_1_21-TJ-04-027_00534.jpg')\n",
    "    # img = cv2.resize(img, (640,480))\n",
    "    height,width = img.shape[0:2]\n",
    "    ori_img = img.copy()\n",
    "\n",
    "\n",
    "    _, img_encoded = cv2.imencode('.jpg', img, params=[cv2.IMWRITE_JPEG_QUALITY, 50])\n",
    "    img = cv2.imdecode(img_encoded, 1)\n",
    "    # send http request with image and receive response\n",
    "    jpg_as_text = base64.b64encode(img_encoded).decode()\n",
    "    dict = {}\n",
    "    dict['image'] = jpg_as_text\n",
    "    dict['shape'] = ori_img.shape\n",
    "\n",
    "    response = requests.post(target_url, data=json.dumps(dict))\n",
    "\n",
    "    # print('network inference 시간{0:0.2f}'.format(time.time()-strt ))\n",
    "    # draw_time = time.time()\n",
    "    lists = json.loads(response.text)\n",
    "\n",
    "    if len(lists) == 0:\n",
    "#         print(\"no face\")\n",
    "        return None\n",
    "    \n",
    "    conf = lists[0]['dots'][0]\n",
    "    coor = lists[0]['coor']\n",
    "    face_size = int(coor[3]-coor[1])\n",
    "    \n",
    "    resize_factor = int(0.7 * height / face_size)\n",
    "    if conf < 0.8:\n",
    "        return None\n",
    "#     print(resize_factor)\n",
    "    if resize_factor > 3:\n",
    "#         print('high')\n",
    "        im_face = cv2.resize(img, (1600, 900), interpolation = cv2.INTER_AREA)\n",
    "#         im_face = cv2.resize(img, (2560, 1440), interpolation = cv2.INTER_AREA)\n",
    "    elif resize_factor > 2:\n",
    "#         print('midium')\n",
    "        im_face = cv2.resize(img, (1280, 720), interpolation = cv2.INTER_AREA)\n",
    "#         im_face = cv2.resize(img, (1920, 1080), interpolation = cv2.INTER_AREA)\n",
    "    else:\n",
    "#         print('low')\n",
    "#         im_face = cv2.resize(img, (width*resize_factor,height*resize_factor), interpolation = cv2.INTER_AREA)\n",
    "#         im_face = cv2.resize(img, (960 ,540), interpolation = cv2.INTER_AREA)\n",
    "        im_face = cv2.resize(img, (1280, 720), interpolation = cv2.INTER_AREA)\n",
    "\n",
    "    return im_face\n",
    "\n",
    "def cartoonize(img):\n",
    "    target_url = \"http://localhost:8894/predict\"\n",
    "\n",
    "\n",
    "    _, img_encoded = cv2.imencode('.jpg', img, params=[cv2.IMWRITE_JPEG_QUALITY, 50])\n",
    "    img = cv2.imdecode(img_encoded, 1)\n",
    "    # send http request with image and receive response\n",
    "    jpg_as_text = base64.b64encode(img_encoded).decode()\n",
    "    dict = {}\n",
    "    dict['image'] = jpg_as_text\n",
    "\n",
    "    response = requests.post(target_url, data=json.dumps(dict))\n",
    "\n",
    "    lists = json.loads(response.text)\n",
    "    jpg_original = base64.b64decode(lists[0]['image'])\n",
    "    jpg_as_np = np.frombuffer(jpg_original, dtype=np.uint8)\n",
    "    img = cv2.imdecode(jpg_as_np, flags=1)\n",
    "\n",
    "    return img\n",
    "\n",
    "@app.route('/sketch_thin', methods=['POST'])\n",
    "def sketch_thin():\n",
    "    global Model_Flag\n",
    "    \n",
    "    if request.method == 'POST':\n",
    "        \n",
    "        net.load_state_dict(torch_dict_thin)\n",
    "\n",
    "        r = request\n",
    "        data_json = r.data\n",
    "        data_dict = json.loads(data_json)\n",
    "\n",
    "        file_path = data_dict['path']\n",
    "#         print(file_path)\n",
    "\n",
    "        if not os.path.exists(file_path):\n",
    "            print(\"input 경로에 이미지가 없습니다.\")\n",
    "            return jsonify([])\n",
    "        \n",
    "        im_list = []\n",
    "        if file_path.endswith('jpg') or file_path.endswith('png') or file_path.endswith('jpeg'):\n",
    "#             print(file_path)\n",
    "            im_list.append(file_path)\n",
    "        else:\n",
    "            print(\"이미지가 아닙니다.\")\n",
    "            return jsonify([])\n",
    "        \n",
    "        out_dir = args.o\n",
    "        if(not os.path.exists(out_dir)):\n",
    "            os.mkdir(out_dir)\n",
    "            \n",
    "        with torch.no_grad():\n",
    "#             for i in range(0,len(im_list)):\n",
    "#             print(\"--------------------------\")\n",
    "#             print(\"inferencing \", 0, \"/\", len(im_list), im_list[0])\n",
    "\n",
    "            # load each image\n",
    "            img = cv2.imread(im_list[0])\n",
    "#                 height,width = img.shape[0:2]\n",
    "            im_face = detect_single_face(img)\n",
    "            if im_face is None:\n",
    "                return jsonify([])\n",
    "#             im_face = crop_face(img, face)\n",
    "\n",
    "            im_portrait = inference(net,im_face)\n",
    "#             im_portrait = inference(net,img)\n",
    "\n",
    "            dst = cv2.resize((im_portrait*255).astype(np.uint8), dsize = (1280, 720))\n",
    "#             dst = (im_portrait*255).astype(np.uint8)\n",
    "#             blr = cv2.GaussianBlur(dst, (0, 0), 2)\n",
    "#             dst2 = np.clip(2.0*dst - blr, 0, 255).astype(np.uint8)\n",
    "        \n",
    "            # save the output\n",
    "            out_path = out_dir+\"/\"+im_list[0].split('/')[-1][0:-4]+'.png'\n",
    "#             print(out_path)\n",
    "            if os.path.exists(out_path):\n",
    "                os.remove(out_path)\n",
    "            \n",
    "            cv2.imwrite(out_path, dst)\n",
    "            \n",
    "        result_dict = {}\n",
    "        result_dict['output_path'] = out_path\n",
    "        return jsonify(result_dict)\n",
    "\n",
    "@app.route('/sketch_thick', methods=['POST'])\n",
    "def sketch_thick():\n",
    "    if request.method == 'POST':\n",
    "        \n",
    "        net.load_state_dict(torch_dict_thick)\n",
    "        \n",
    "        r = request\n",
    "        data_json = r.data\n",
    "        data_dict = json.loads(data_json)\n",
    "\n",
    "        file_path = data_dict['path']\n",
    "        print(file_path)\n",
    "\n",
    "        if not os.path.exists(file_path):\n",
    "            print(\"input 경로에 이미지가 없습니다.\")\n",
    "            return jsonify([])\n",
    "        \n",
    "        im_list = []\n",
    "        if file_path.endswith('jpg') or file_path.endswith('png') or file_path.endswith('jpeg'):\n",
    "#             print(file_path)\n",
    "            im_list.append(file_path)\n",
    "        else:\n",
    "            print(\"이미지가 아닙니다.\")\n",
    "            return jsonify([])\n",
    "        \n",
    "        out_dir = args.o\n",
    "        if(not os.path.exists(out_dir)):\n",
    "            os.mkdir(out_dir)\n",
    "            \n",
    "        with torch.no_grad():\n",
    "#             for i in range(0,len(im_list)):\n",
    "#             print(\"--------------------------\")\n",
    "#             print(\"inferencing \", 0, \"/\", len(im_list), im_list[0])\n",
    "\n",
    "            # load each image\n",
    "            img = cv2.imread(im_list[0])\n",
    "#                 height,width = img.shape[0:2]\n",
    "#             img = cartoonize(img)\n",
    "\n",
    "            im_face = detect_single_face(img)\n",
    "    \n",
    "            if im_face is None:\n",
    "                return jsonify([])\n",
    "\n",
    "            im_portrait = inference(net,im_face)\n",
    "    \n",
    "#             im_portrait = inference(net,img)\n",
    "\n",
    "            dst = cv2.resize((im_portrait*255).astype(np.uint8), dsize = (1280, 720))\n",
    "#             dst = (im_portrait*255).astype(np.uint8)\n",
    "#             blr = cv2.GaussianBlur(dst, (0, 0), 2)\n",
    "#             dst2 = np.clip(2.0*dst - blr, 0, 255).astype(np.uint8)\n",
    "        \n",
    "            # save the output\n",
    "            out_path = out_dir+\"/\"+im_list[0].split('/')[-1][0:-4]+'.png'\n",
    "#             print(out_path)\n",
    "            if os.path.exists(out_path):\n",
    "                os.remove(out_path)\n",
    "            \n",
    "            cv2.imwrite(out_path, dst)\n",
    "            \n",
    "        result_dict = {}\n",
    "        result_dict['output_path'] = out_path\n",
    "        return jsonify(result_dict)\n",
    "    \n",
    "@app.route('/remove_bg', methods=['POST'])\n",
    "def remove_bg():\n",
    "    global Model_Flag\n",
    "    \n",
    "    if request.method == 'POST':\n",
    "        \n",
    "        net.load_state_dict(torch_dict_nobg)\n",
    "\n",
    "        r = request\n",
    "        data_json = r.data\n",
    "        data_dict = json.loads(data_json)\n",
    "\n",
    "        file_path = data_dict['img_path']\n",
    "#         print(file_path)\n",
    "\n",
    "        if not os.path.exists(file_path):\n",
    "            print(\"input 경로에 이미지가 없습니다.\")\n",
    "            return jsonify([])\n",
    "        \n",
    "        im_list = []\n",
    "        if file_path.endswith('jpg') or file_path.endswith('png') or file_path.endswith('jpeg'):\n",
    "#             print(file_path)\n",
    "            im_list.append(file_path)\n",
    "        else:\n",
    "            print(\"이미지가 아닙니다.\")\n",
    "            return jsonify([])\n",
    "        \n",
    "        out_dir = args.o\n",
    "        if(not os.path.exists(out_dir)):\n",
    "            os.mkdir(out_dir)\n",
    "            \n",
    "        with torch.no_grad():\n",
    "#             for i in range(0,len(im_list)):\n",
    "#             print(\"--------------------------\")\n",
    "#             print(\"inferencing \", 0, \"/\", len(im_list), im_list[0])\n",
    "#             print(im_list[0])\n",
    "            img = cv2.imread(im_list[0])\n",
    "            h, w = img.shape[:2]\n",
    "        \n",
    "            r = 360 / float(h)\n",
    "            dim = (int(w * r), 360)\n",
    "        \n",
    "            resized_img = cv2.resize(img, dim, interpolation = cv2.INTER_AREA)\n",
    "\n",
    "            im_portrait = inference(net, resized_img)\n",
    "\n",
    "            dst = cv2.resize((im_portrait*255).astype(np.uint8), dsize = (w, h))\n",
    "\n",
    "#             print(dst.shape)\n",
    "#             mask2 = cv2.cvtColor(dst, cv2.COLOR_BGR2GRAY)\n",
    "            ret, mask2 = cv2.threshold(dst, 0, 255, cv2.THRESH_BINARY+cv2.THRESH_OTSU)\n",
    "#             kernel = np.ones((5,5), np.uint8)\n",
    "#             mask2 = cv2.morphologyEx(mask2, cv2.MORPH_CLOSE, kernel)\n",
    "#             mask2 = cv2.morphologyEx(mask2, cv2.MORPH_OPEN, kernel)\n",
    "            \n",
    "            mask2_inv = cv2.bitwise_not(mask2)\n",
    "\n",
    "            # dst_bg = cv2.bitwise_and(dst_img_copy, dst_img_copy, mask=mask_inv)\n",
    "#             print(mask2.shape)\n",
    "#             print(img.shape)\n",
    "            \n",
    "            dst = cv2.cvtColor(dst, cv2.COLOR_GRAY2BGR)\n",
    "            img_fg = cv2.bitwise_and(img, img, mask=mask2_inv)\n",
    "            img_bg = cv2.bitwise_and(dst, dst, mask=mask2)\n",
    "\n",
    "            dst = img_fg + img_bg\n",
    "            \n",
    "            # save the output\n",
    "#             out_path = out_dir+\"/\"+im_list[0].split('/')[-1][0:-4]+'.png'\n",
    "            out_path = os.path.join(out_dir,im_list[0].split('/')[-1][:-4]+'rb.png')\n",
    "#             print(out_path)\n",
    "            if os.path.exists(out_path):\n",
    "                os.remove(out_path)\n",
    "            \n",
    "            cv2.imwrite(out_path, dst)\n",
    "            \n",
    "        result_dict = {}\n",
    "        result_dict['output_path'] = out_path\n",
    "        return jsonify(out_path)"
   ]
  },
  {
   "cell_type": "code",
   "execution_count": null,
   "id": "7c69b1b5",
   "metadata": {
    "scrolled": true
   },
   "outputs": [
    {
     "name": "stdout",
     "output_type": "stream",
     "text": [
      " * Serving Flask app '__main__' (lazy loading)\n",
      " * Environment: production\n",
      "\u001b[31m   WARNING: This is a development server. Do not use it in a production deployment.\u001b[0m\n",
      "\u001b[2m   Use a production WSGI server instead.\u001b[0m\n",
      " * Debug mode: off\n"
     ]
    },
    {
     "name": "stderr",
     "output_type": "stream",
     "text": [
      " * Running on all addresses.\n",
      "   WARNING: This is a development server. Do not use it in a production deployment.\n",
      " * Running on http://10.36.45.236:8899/ (Press CTRL+C to quit)\n",
      "/home/ubuntu/anaconda3/envs/dalle-pytorch/lib/python3.8/site-packages/torch/nn/functional.py:2952: UserWarning: nn.functional.upsample is deprecated. Use nn.functional.interpolate instead.\n",
      "  warnings.warn(\"nn.functional.upsample is deprecated. Use nn.functional.interpolate instead.\")\n",
      "/home/ubuntu/anaconda3/envs/dalle-pytorch/lib/python3.8/site-packages/torch/nn/functional.py:3060: UserWarning: Default upsampling behavior when mode=bilinear is changed to align_corners=False since 0.4.0. Please specify align_corners=True if the old behavior is desired. See the documentation of nn.Upsample for details.\n",
      "  warnings.warn(\"Default upsampling behavior when mode={} is changed \"\n",
      "/home/ubuntu/anaconda3/envs/dalle-pytorch/lib/python3.8/site-packages/torch/nn/functional.py:1639: UserWarning: nn.functional.sigmoid is deprecated. Use torch.sigmoid instead.\n",
      "  warnings.warn(\"nn.functional.sigmoid is deprecated. Use torch.sigmoid instead.\")\n",
      "127.0.0.1 - - [01/Oct/2021 14:25:27] \"POST /remove_bg HTTP/1.1\" 200 -\n",
      "127.0.0.1 - - [01/Oct/2021 14:25:27] \"POST /sketch_thin HTTP/1.1\" 200 -\n"
     ]
    },
    {
     "name": "stdout",
     "output_type": "stream",
     "text": [
      "/home/ubuntu/workspace/kobaco/sketchy/U-2-Net/test_data/test_portrait_images/api_results/807151H01_1_21-TH-06-509_00504rb.png\n"
     ]
    },
    {
     "name": "stderr",
     "output_type": "stream",
     "text": [
      "127.0.0.1 - - [01/Oct/2021 14:25:28] \"POST /sketch_thick HTTP/1.1\" 200 -\n",
      "127.0.0.1 - - [01/Oct/2021 14:25:28] \"POST /remove_bg HTTP/1.1\" 200 -\n",
      "127.0.0.1 - - [01/Oct/2021 14:25:29] \"POST /sketch_thin HTTP/1.1\" 200 -\n"
     ]
    },
    {
     "name": "stdout",
     "output_type": "stream",
     "text": [
      "/home/ubuntu/workspace/kobaco/sketchy/U-2-Net/test_data/test_portrait_images/api_results/807145H01_1_21-TH-06-503_00302rb.png\n"
     ]
    },
    {
     "name": "stderr",
     "output_type": "stream",
     "text": [
      "127.0.0.1 - - [01/Oct/2021 14:25:29] \"POST /sketch_thick HTTP/1.1\" 200 -\n",
      "127.0.0.1 - - [01/Oct/2021 14:25:30] \"POST /remove_bg HTTP/1.1\" 200 -\n",
      "127.0.0.1 - - [01/Oct/2021 14:25:30] \"POST /sketch_thin HTTP/1.1\" 200 -\n"
     ]
    },
    {
     "name": "stdout",
     "output_type": "stream",
     "text": [
      "/home/ubuntu/workspace/kobaco/sketchy/U-2-Net/test_data/test_portrait_images/api_results/807145H01_1_21-TH-06-503_00226rb.png\n"
     ]
    },
    {
     "name": "stderr",
     "output_type": "stream",
     "text": [
      "127.0.0.1 - - [01/Oct/2021 14:25:31] \"POST /sketch_thick HTTP/1.1\" 200 -\n",
      "127.0.0.1 - - [01/Oct/2021 14:25:31] \"POST /remove_bg HTTP/1.1\" 200 -\n",
      "127.0.0.1 - - [01/Oct/2021 14:25:31] \"POST /sketch_thin HTTP/1.1\" 200 -\n"
     ]
    },
    {
     "name": "stdout",
     "output_type": "stream",
     "text": [
      "/home/ubuntu/workspace/kobaco/sketchy/U-2-Net/test_data/test_portrait_images/api_results/807145H01_1_21-TH-06-503_00024rb.png\n"
     ]
    },
    {
     "name": "stderr",
     "output_type": "stream",
     "text": [
      "127.0.0.1 - - [01/Oct/2021 14:25:32] \"POST /sketch_thick HTTP/1.1\" 200 -\n",
      "127.0.0.1 - - [01/Oct/2021 14:25:32] \"POST /remove_bg HTTP/1.1\" 200 -\n",
      "127.0.0.1 - - [01/Oct/2021 14:25:33] \"POST /sketch_thin HTTP/1.1\" 200 -\n"
     ]
    },
    {
     "name": "stdout",
     "output_type": "stream",
     "text": [
      "/home/ubuntu/workspace/kobaco/sketchy/U-2-Net/test_data/test_portrait_images/api_results/807142H01_1_21-TH-06-500_00340rb.png\n"
     ]
    },
    {
     "name": "stderr",
     "output_type": "stream",
     "text": [
      "127.0.0.1 - - [01/Oct/2021 14:25:34] \"POST /sketch_thick HTTP/1.1\" 200 -\n",
      "127.0.0.1 - - [01/Oct/2021 14:25:34] \"POST /remove_bg HTTP/1.1\" 200 -\n",
      "127.0.0.1 - - [01/Oct/2021 14:25:35] \"POST /sketch_thin HTTP/1.1\" 200 -\n"
     ]
    },
    {
     "name": "stdout",
     "output_type": "stream",
     "text": [
      "/home/ubuntu/workspace/kobaco/sketchy/U-2-Net/test_data/test_portrait_images/api_results/807141H01_1_21-TH-06-499_00766rb.png\n"
     ]
    },
    {
     "name": "stderr",
     "output_type": "stream",
     "text": [
      "127.0.0.1 - - [01/Oct/2021 14:25:35] \"POST /sketch_thick HTTP/1.1\" 200 -\n",
      "127.0.0.1 - - [01/Oct/2021 14:25:35] \"POST /remove_bg HTTP/1.1\" 200 -\n",
      "127.0.0.1 - - [01/Oct/2021 14:25:36] \"POST /sketch_thin HTTP/1.1\" 200 -\n"
     ]
    },
    {
     "name": "stdout",
     "output_type": "stream",
     "text": [
      "/home/ubuntu/workspace/kobaco/sketchy/U-2-Net/test_data/test_portrait_images/api_results/807141H01_1_21-TH-06-499_00686rb.png\n"
     ]
    },
    {
     "name": "stderr",
     "output_type": "stream",
     "text": [
      "127.0.0.1 - - [01/Oct/2021 14:25:36] \"POST /sketch_thick HTTP/1.1\" 200 -\n",
      "127.0.0.1 - - [01/Oct/2021 14:25:37] \"POST /remove_bg HTTP/1.1\" 200 -\n",
      "127.0.0.1 - - [01/Oct/2021 14:25:37] \"POST /sketch_thin HTTP/1.1\" 200 -\n"
     ]
    },
    {
     "name": "stdout",
     "output_type": "stream",
     "text": [
      "/home/ubuntu/workspace/kobaco/sketchy/U-2-Net/test_data/test_portrait_images/api_results/807141H01_1_21-TH-06-499_00619rb.png\n"
     ]
    },
    {
     "name": "stderr",
     "output_type": "stream",
     "text": [
      "127.0.0.1 - - [01/Oct/2021 14:25:38] \"POST /sketch_thick HTTP/1.1\" 200 -\n",
      "127.0.0.1 - - [01/Oct/2021 14:25:38] \"POST /remove_bg HTTP/1.1\" 200 -\n",
      "127.0.0.1 - - [01/Oct/2021 14:25:39] \"POST /sketch_thin HTTP/1.1\" 200 -\n"
     ]
    },
    {
     "name": "stdout",
     "output_type": "stream",
     "text": [
      "/home/ubuntu/workspace/kobaco/sketchy/U-2-Net/test_data/test_portrait_images/api_results/807129H01_1_21-TH-06-491_00050rb.png\n"
     ]
    },
    {
     "name": "stderr",
     "output_type": "stream",
     "text": [
      "127.0.0.1 - - [01/Oct/2021 14:25:39] \"POST /sketch_thick HTTP/1.1\" 200 -\n",
      "127.0.0.1 - - [01/Oct/2021 14:25:39] \"POST /remove_bg HTTP/1.1\" 200 -\n",
      "127.0.0.1 - - [01/Oct/2021 14:25:40] \"POST /sketch_thin HTTP/1.1\" 200 -\n"
     ]
    },
    {
     "name": "stdout",
     "output_type": "stream",
     "text": [
      "/home/ubuntu/workspace/kobaco/sketchy/U-2-Net/test_data/test_portrait_images/api_results/807115H01_1_21-TH-06-484_00745rb.png\n"
     ]
    },
    {
     "name": "stderr",
     "output_type": "stream",
     "text": [
      "127.0.0.1 - - [01/Oct/2021 14:25:40] \"POST /sketch_thick HTTP/1.1\" 200 -\n",
      "127.0.0.1 - - [01/Oct/2021 14:25:41] \"POST /remove_bg HTTP/1.1\" 200 -\n",
      "127.0.0.1 - - [01/Oct/2021 14:25:41] \"POST /sketch_thin HTTP/1.1\" 200 -\n"
     ]
    },
    {
     "name": "stdout",
     "output_type": "stream",
     "text": [
      "/home/ubuntu/workspace/kobaco/sketchy/U-2-Net/test_data/test_portrait_images/api_results/807115H01_1_21-TH-06-484_00194rb.png\n"
     ]
    },
    {
     "name": "stderr",
     "output_type": "stream",
     "text": [
      "127.0.0.1 - - [01/Oct/2021 14:25:42] \"POST /sketch_thick HTTP/1.1\" 200 -\n",
      "127.0.0.1 - - [01/Oct/2021 14:25:42] \"POST /remove_bg HTTP/1.1\" 200 -\n",
      "127.0.0.1 - - [01/Oct/2021 14:25:43] \"POST /sketch_thin HTTP/1.1\" 200 -\n"
     ]
    },
    {
     "name": "stdout",
     "output_type": "stream",
     "text": [
      "/home/ubuntu/workspace/kobaco/sketchy/U-2-Net/test_data/test_portrait_images/api_results/807094H01_1_21-TH-06-470_00030rb.png\n"
     ]
    },
    {
     "name": "stderr",
     "output_type": "stream",
     "text": [
      "127.0.0.1 - - [01/Oct/2021 14:25:43] \"POST /sketch_thick HTTP/1.1\" 200 -\n",
      "127.0.0.1 - - [01/Oct/2021 14:25:44] \"POST /remove_bg HTTP/1.1\" 200 -\n",
      "127.0.0.1 - - [01/Oct/2021 14:25:44] \"POST /sketch_thin HTTP/1.1\" 200 -\n"
     ]
    },
    {
     "name": "stdout",
     "output_type": "stream",
     "text": [
      "/home/ubuntu/workspace/kobaco/sketchy/U-2-Net/test_data/test_portrait_images/api_results/807093H01_1_21-TH-06-469_00407rb.png\n"
     ]
    },
    {
     "name": "stderr",
     "output_type": "stream",
     "text": [
      "127.0.0.1 - - [01/Oct/2021 14:25:45] \"POST /sketch_thick HTTP/1.1\" 200 -\n",
      "127.0.0.1 - - [01/Oct/2021 14:25:45] \"POST /remove_bg HTTP/1.1\" 200 -\n",
      "127.0.0.1 - - [01/Oct/2021 14:25:46] \"POST /sketch_thin HTTP/1.1\" 200 -\n"
     ]
    },
    {
     "name": "stdout",
     "output_type": "stream",
     "text": [
      "/home/ubuntu/workspace/kobaco/sketchy/U-2-Net/test_data/test_portrait_images/api_results/807093H01_1_21-TH-06-469_00102rb.png\n"
     ]
    },
    {
     "name": "stderr",
     "output_type": "stream",
     "text": [
      "127.0.0.1 - - [01/Oct/2021 14:25:46] \"POST /sketch_thick HTTP/1.1\" 200 -\n",
      "127.0.0.1 - - [01/Oct/2021 14:25:46] \"POST /remove_bg HTTP/1.1\" 200 -\n",
      "127.0.0.1 - - [01/Oct/2021 14:25:47] \"POST /sketch_thin HTTP/1.1\" 200 -\n"
     ]
    },
    {
     "name": "stdout",
     "output_type": "stream",
     "text": [
      "/home/ubuntu/workspace/kobaco/sketchy/U-2-Net/test_data/test_portrait_images/api_results/807081H01_1_21-TH-06-456_00114rb.png\n"
     ]
    },
    {
     "name": "stderr",
     "output_type": "stream",
     "text": [
      "127.0.0.1 - - [01/Oct/2021 14:25:48] \"POST /sketch_thick HTTP/1.1\" 200 -\n",
      "127.0.0.1 - - [01/Oct/2021 14:25:48] \"POST /remove_bg HTTP/1.1\" 200 -\n",
      "127.0.0.1 - - [01/Oct/2021 14:25:49] \"POST /sketch_thin HTTP/1.1\" 200 -\n"
     ]
    },
    {
     "name": "stdout",
     "output_type": "stream",
     "text": [
      "/home/ubuntu/workspace/kobaco/sketchy/U-2-Net/test_data/test_portrait_images/api_results/807080H01_1_21-TX-06-021_00195rb.png\n"
     ]
    },
    {
     "name": "stderr",
     "output_type": "stream",
     "text": [
      "127.0.0.1 - - [01/Oct/2021 14:25:49] \"POST /sketch_thick HTTP/1.1\" 200 -\n",
      "127.0.0.1 - - [01/Oct/2021 14:25:49] \"POST /remove_bg HTTP/1.1\" 200 -\n",
      "127.0.0.1 - - [01/Oct/2021 14:25:50] \"POST /sketch_thin HTTP/1.1\" 200 -\n"
     ]
    },
    {
     "name": "stdout",
     "output_type": "stream",
     "text": [
      "/home/ubuntu/workspace/kobaco/sketchy/U-2-Net/test_data/test_portrait_images/api_results/807077H01_1_21-TH-06-453_00130rb.png\n"
     ]
    },
    {
     "name": "stderr",
     "output_type": "stream",
     "text": [
      "127.0.0.1 - - [01/Oct/2021 14:25:50] \"POST /sketch_thick HTTP/1.1\" 200 -\n",
      "127.0.0.1 - - [01/Oct/2021 14:25:51] \"POST /remove_bg HTTP/1.1\" 200 -\n",
      "127.0.0.1 - - [01/Oct/2021 14:25:51] \"POST /sketch_thin HTTP/1.1\" 200 -\n"
     ]
    },
    {
     "name": "stdout",
     "output_type": "stream",
     "text": [
      "/home/ubuntu/workspace/kobaco/sketchy/U-2-Net/test_data/test_portrait_images/api_results/807076H01_1_21-TH-06-452_00172rb.png\n"
     ]
    },
    {
     "name": "stderr",
     "output_type": "stream",
     "text": [
      "127.0.0.1 - - [01/Oct/2021 14:25:52] \"POST /sketch_thick HTTP/1.1\" 200 -\n",
      "127.0.0.1 - - [01/Oct/2021 14:25:52] \"POST /remove_bg HTTP/1.1\" 200 -\n",
      "127.0.0.1 - - [01/Oct/2021 14:25:53] \"POST /sketch_thin HTTP/1.1\" 200 -\n"
     ]
    },
    {
     "name": "stdout",
     "output_type": "stream",
     "text": [
      "/home/ubuntu/workspace/kobaco/sketchy/U-2-Net/test_data/test_portrait_images/api_results/807073H01_1_21-TH-06-448_00100rb.png\n"
     ]
    },
    {
     "name": "stderr",
     "output_type": "stream",
     "text": [
      "127.0.0.1 - - [01/Oct/2021 14:25:53] \"POST /sketch_thick HTTP/1.1\" 200 -\n",
      "127.0.0.1 - - [01/Oct/2021 14:25:54] \"POST /remove_bg HTTP/1.1\" 200 -\n",
      "127.0.0.1 - - [01/Oct/2021 14:25:54] \"POST /sketch_thin HTTP/1.1\" 200 -\n"
     ]
    },
    {
     "name": "stdout",
     "output_type": "stream",
     "text": [
      "/home/ubuntu/workspace/kobaco/sketchy/U-2-Net/test_data/test_portrait_images/api_results/807071H01_1_21-TH-06-450_00103rb.png\n"
     ]
    },
    {
     "name": "stderr",
     "output_type": "stream",
     "text": [
      "127.0.0.1 - - [01/Oct/2021 14:25:55] \"POST /sketch_thick HTTP/1.1\" 200 -\n",
      "127.0.0.1 - - [01/Oct/2021 14:25:55] \"POST /remove_bg HTTP/1.1\" 200 -\n",
      "127.0.0.1 - - [01/Oct/2021 14:25:56] \"POST /sketch_thin HTTP/1.1\" 200 -\n"
     ]
    },
    {
     "name": "stdout",
     "output_type": "stream",
     "text": [
      "/home/ubuntu/workspace/kobaco/sketchy/U-2-Net/test_data/test_portrait_images/api_results/807071H01_1_21-TH-06-450_00022rb.png\n"
     ]
    },
    {
     "name": "stderr",
     "output_type": "stream",
     "text": [
      "127.0.0.1 - - [01/Oct/2021 14:25:56] \"POST /sketch_thick HTTP/1.1\" 200 -\n",
      "127.0.0.1 - - [01/Oct/2021 14:25:57] \"POST /remove_bg HTTP/1.1\" 200 -\n",
      "127.0.0.1 - - [01/Oct/2021 14:25:57] \"POST /sketch_thin HTTP/1.1\" 200 -\n"
     ]
    },
    {
     "name": "stdout",
     "output_type": "stream",
     "text": [
      "/home/ubuntu/workspace/kobaco/sketchy/U-2-Net/test_data/test_portrait_images/api_results/807051H01_1_21-TH-06-442_00606rb.png\n"
     ]
    },
    {
     "name": "stderr",
     "output_type": "stream",
     "text": [
      "127.0.0.1 - - [01/Oct/2021 14:25:57] \"POST /sketch_thick HTTP/1.1\" 200 -\n",
      "127.0.0.1 - - [01/Oct/2021 14:25:58] \"POST /remove_bg HTTP/1.1\" 200 -\n",
      "127.0.0.1 - - [01/Oct/2021 14:25:58] \"POST /sketch_thin HTTP/1.1\" 200 -\n"
     ]
    },
    {
     "name": "stdout",
     "output_type": "stream",
     "text": [
      "/home/ubuntu/workspace/kobaco/sketchy/U-2-Net/test_data/test_portrait_images/api_results/807051H01_1_21-TH-06-442_00394rb.png\n"
     ]
    },
    {
     "name": "stderr",
     "output_type": "stream",
     "text": [
      "127.0.0.1 - - [01/Oct/2021 14:25:59] \"POST /sketch_thick HTTP/1.1\" 200 -\n",
      "127.0.0.1 - - [01/Oct/2021 14:25:59] \"POST /remove_bg HTTP/1.1\" 200 -\n",
      "127.0.0.1 - - [01/Oct/2021 14:26:00] \"POST /sketch_thin HTTP/1.1\" 200 -\n"
     ]
    },
    {
     "name": "stdout",
     "output_type": "stream",
     "text": [
      "/home/ubuntu/workspace/kobaco/sketchy/U-2-Net/test_data/test_portrait_images/api_results/807050H01_1_21-TH-06-443_00053rb.png\n"
     ]
    },
    {
     "name": "stderr",
     "output_type": "stream",
     "text": [
      "127.0.0.1 - - [01/Oct/2021 14:26:00] \"POST /sketch_thick HTTP/1.1\" 200 -\n",
      "127.0.0.1 - - [01/Oct/2021 14:26:01] \"POST /remove_bg HTTP/1.1\" 200 -\n",
      "127.0.0.1 - - [01/Oct/2021 14:26:01] \"POST /sketch_thin HTTP/1.1\" 200 -\n"
     ]
    },
    {
     "name": "stdout",
     "output_type": "stream",
     "text": [
      "/home/ubuntu/workspace/kobaco/sketchy/U-2-Net/test_data/test_portrait_images/api_results/807049H01_1_21-TH-06-445_00270rb.png\n"
     ]
    },
    {
     "name": "stderr",
     "output_type": "stream",
     "text": [
      "127.0.0.1 - - [01/Oct/2021 14:26:02] \"POST /sketch_thick HTTP/1.1\" 200 -\n",
      "127.0.0.1 - - [01/Oct/2021 14:26:02] \"POST /remove_bg HTTP/1.1\" 200 -\n",
      "127.0.0.1 - - [01/Oct/2021 14:26:03] \"POST /sketch_thin HTTP/1.1\" 200 -\n"
     ]
    },
    {
     "name": "stdout",
     "output_type": "stream",
     "text": [
      "/home/ubuntu/workspace/kobaco/sketchy/U-2-Net/test_data/test_portrait_images/api_results/807048H01_1_21-TH-06-446_00816rb.png\n"
     ]
    },
    {
     "name": "stderr",
     "output_type": "stream",
     "text": [
      "127.0.0.1 - - [01/Oct/2021 14:26:03] \"POST /sketch_thick HTTP/1.1\" 200 -\n",
      "127.0.0.1 - - [01/Oct/2021 14:26:03] \"POST /remove_bg HTTP/1.1\" 200 -\n",
      "127.0.0.1 - - [01/Oct/2021 14:26:04] \"POST /sketch_thin HTTP/1.1\" 200 -\n"
     ]
    },
    {
     "name": "stdout",
     "output_type": "stream",
     "text": [
      "/home/ubuntu/workspace/kobaco/sketchy/U-2-Net/test_data/test_portrait_images/api_results/807047H01_1_21-TH-06-444_00182rb.png\n"
     ]
    },
    {
     "name": "stderr",
     "output_type": "stream",
     "text": [
      "127.0.0.1 - - [01/Oct/2021 14:26:05] \"POST /sketch_thick HTTP/1.1\" 200 -\n",
      "127.0.0.1 - - [01/Oct/2021 14:26:05] \"POST /remove_bg HTTP/1.1\" 200 -\n",
      "127.0.0.1 - - [01/Oct/2021 14:26:06] \"POST /sketch_thin HTTP/1.1\" 200 -\n"
     ]
    },
    {
     "name": "stdout",
     "output_type": "stream",
     "text": [
      "/home/ubuntu/workspace/kobaco/sketchy/U-2-Net/test_data/test_portrait_images/api_results/807047H01_1_21-TH-06-444_00042rb.png\n"
     ]
    },
    {
     "name": "stderr",
     "output_type": "stream",
     "text": [
      "127.0.0.1 - - [01/Oct/2021 14:26:06] \"POST /sketch_thick HTTP/1.1\" 200 -\n",
      "127.0.0.1 - - [01/Oct/2021 14:26:07] \"POST /remove_bg HTTP/1.1\" 200 -\n",
      "127.0.0.1 - - [01/Oct/2021 14:26:07] \"POST /sketch_thin HTTP/1.1\" 200 -\n"
     ]
    },
    {
     "name": "stdout",
     "output_type": "stream",
     "text": [
      "/home/ubuntu/workspace/kobaco/sketchy/U-2-Net/test_data/test_portrait_images/api_results/807046H01_1_21-TH-06-447_00230rb.png\n"
     ]
    },
    {
     "name": "stderr",
     "output_type": "stream",
     "text": [
      "127.0.0.1 - - [01/Oct/2021 14:26:07] \"POST /sketch_thick HTTP/1.1\" 200 -\n",
      "127.0.0.1 - - [01/Oct/2021 14:26:08] \"POST /remove_bg HTTP/1.1\" 200 -\n",
      "127.0.0.1 - - [01/Oct/2021 14:26:08] \"POST /sketch_thin HTTP/1.1\" 200 -\n"
     ]
    },
    {
     "name": "stdout",
     "output_type": "stream",
     "text": [
      "/home/ubuntu/workspace/kobaco/sketchy/U-2-Net/test_data/test_portrait_images/api_results/807041H01_1_21-TH-06-434_01274rb.png\n"
     ]
    },
    {
     "name": "stderr",
     "output_type": "stream",
     "text": [
      "127.0.0.1 - - [01/Oct/2021 14:26:09] \"POST /sketch_thick HTTP/1.1\" 200 -\n",
      "127.0.0.1 - - [01/Oct/2021 14:26:09] \"POST /remove_bg HTTP/1.1\" 200 -\n",
      "127.0.0.1 - - [01/Oct/2021 14:26:10] \"POST /sketch_thin HTTP/1.1\" 200 -\n"
     ]
    },
    {
     "name": "stdout",
     "output_type": "stream",
     "text": [
      "/home/ubuntu/workspace/kobaco/sketchy/U-2-Net/test_data/test_portrait_images/api_results/807037H01_1_21-TH-06-430_00416rb.png\n"
     ]
    },
    {
     "name": "stderr",
     "output_type": "stream",
     "text": [
      "127.0.0.1 - - [01/Oct/2021 14:26:11] \"POST /sketch_thick HTTP/1.1\" 200 -\n",
      "127.0.0.1 - - [01/Oct/2021 14:26:11] \"POST /remove_bg HTTP/1.1\" 200 -\n",
      "127.0.0.1 - - [01/Oct/2021 14:26:11] \"POST /sketch_thin HTTP/1.1\" 200 -\n"
     ]
    },
    {
     "name": "stdout",
     "output_type": "stream",
     "text": [
      "/home/ubuntu/workspace/kobaco/sketchy/U-2-Net/test_data/test_portrait_images/api_results/807030H01_1_21-TH-06-424_00112rb.png\n"
     ]
    },
    {
     "name": "stderr",
     "output_type": "stream",
     "text": [
      "127.0.0.1 - - [01/Oct/2021 14:26:12] \"POST /sketch_thick HTTP/1.1\" 200 -\n",
      "127.0.0.1 - - [01/Oct/2021 14:26:12] \"POST /remove_bg HTTP/1.1\" 200 -\n",
      "127.0.0.1 - - [01/Oct/2021 14:26:13] \"POST /sketch_thin HTTP/1.1\" 200 -\n"
     ]
    },
    {
     "name": "stdout",
     "output_type": "stream",
     "text": [
      "/home/ubuntu/workspace/kobaco/sketchy/U-2-Net/test_data/test_portrait_images/api_results/807028H01_1_21-TH-06-423_00108rb.png\n"
     ]
    },
    {
     "name": "stderr",
     "output_type": "stream",
     "text": [
      "127.0.0.1 - - [01/Oct/2021 14:26:13] \"POST /sketch_thick HTTP/1.1\" 200 -\n",
      "127.0.0.1 - - [01/Oct/2021 14:26:14] \"POST /remove_bg HTTP/1.1\" 200 -\n",
      "127.0.0.1 - - [01/Oct/2021 14:26:14] \"POST /sketch_thin HTTP/1.1\" 200 -\n"
     ]
    },
    {
     "name": "stdout",
     "output_type": "stream",
     "text": [
      "/home/ubuntu/workspace/kobaco/sketchy/U-2-Net/test_data/test_portrait_images/api_results/807027H01_1_21-TH-06-420_00568rb.png\n"
     ]
    },
    {
     "name": "stderr",
     "output_type": "stream",
     "text": [
      "127.0.0.1 - - [01/Oct/2021 14:26:15] \"POST /sketch_thick HTTP/1.1\" 200 -\n",
      "127.0.0.1 - - [01/Oct/2021 14:26:15] \"POST /remove_bg HTTP/1.1\" 200 -\n",
      "127.0.0.1 - - [01/Oct/2021 14:26:15] \"POST /sketch_thin HTTP/1.1\" 200 -\n"
     ]
    },
    {
     "name": "stdout",
     "output_type": "stream",
     "text": [
      "/home/ubuntu/workspace/kobaco/sketchy/U-2-Net/test_data/test_portrait_images/api_results/807022H01_1_21-TH-06-416_00863rb.png\n"
     ]
    },
    {
     "name": "stderr",
     "output_type": "stream",
     "text": [
      "127.0.0.1 - - [01/Oct/2021 14:26:16] \"POST /sketch_thick HTTP/1.1\" 200 -\n",
      "127.0.0.1 - - [01/Oct/2021 14:26:16] \"POST /remove_bg HTTP/1.1\" 200 -\n",
      "127.0.0.1 - - [01/Oct/2021 14:26:17] \"POST /sketch_thin HTTP/1.1\" 200 -\n"
     ]
    },
    {
     "name": "stdout",
     "output_type": "stream",
     "text": [
      "/home/ubuntu/workspace/kobaco/sketchy/U-2-Net/test_data/test_portrait_images/api_results/807009H01_1_21-TH-06-400_00844rb.png\n"
     ]
    },
    {
     "name": "stderr",
     "output_type": "stream",
     "text": [
      "127.0.0.1 - - [01/Oct/2021 14:26:17] \"POST /sketch_thick HTTP/1.1\" 200 -\n",
      "127.0.0.1 - - [01/Oct/2021 14:26:17] \"POST /remove_bg HTTP/1.1\" 200 -\n",
      "127.0.0.1 - - [01/Oct/2021 14:26:18] \"POST /sketch_thin HTTP/1.1\" 200 -\n"
     ]
    },
    {
     "name": "stdout",
     "output_type": "stream",
     "text": [
      "/home/ubuntu/workspace/kobaco/sketchy/U-2-Net/test_data/test_portrait_images/api_results/807003H01_1_21-HC-06-040_00250rb.png\n"
     ]
    },
    {
     "name": "stderr",
     "output_type": "stream",
     "text": [
      "127.0.0.1 - - [01/Oct/2021 14:26:18] \"POST /sketch_thick HTTP/1.1\" 200 -\n",
      "127.0.0.1 - - [01/Oct/2021 14:26:19] \"POST /remove_bg HTTP/1.1\" 200 -\n",
      "127.0.0.1 - - [01/Oct/2021 14:26:19] \"POST /sketch_thin HTTP/1.1\" 200 -\n"
     ]
    },
    {
     "name": "stdout",
     "output_type": "stream",
     "text": [
      "/home/ubuntu/workspace/kobaco/sketchy/U-2-Net/test_data/test_portrait_images/api_results/806974H01_1_21-TH-06-375_00582rb.png\n"
     ]
    },
    {
     "name": "stderr",
     "output_type": "stream",
     "text": [
      "127.0.0.1 - - [01/Oct/2021 14:26:20] \"POST /sketch_thick HTTP/1.1\" 200 -\n",
      "127.0.0.1 - - [01/Oct/2021 14:26:20] \"POST /remove_bg HTTP/1.1\" 200 -\n",
      "127.0.0.1 - - [01/Oct/2021 14:26:21] \"POST /sketch_thin HTTP/1.1\" 200 -\n"
     ]
    },
    {
     "name": "stdout",
     "output_type": "stream",
     "text": [
      "/home/ubuntu/workspace/kobaco/sketchy/U-2-Net/test_data/test_portrait_images/api_results/806970H01_1_21-TH-06-388_00424rb.png\n"
     ]
    },
    {
     "name": "stderr",
     "output_type": "stream",
     "text": [
      "127.0.0.1 - - [01/Oct/2021 14:26:21] \"POST /sketch_thick HTTP/1.1\" 200 -\n",
      "127.0.0.1 - - [01/Oct/2021 14:26:22] \"POST /remove_bg HTTP/1.1\" 200 -\n",
      "127.0.0.1 - - [01/Oct/2021 14:26:22] \"POST /sketch_thin HTTP/1.1\" 200 -\n"
     ]
    },
    {
     "name": "stdout",
     "output_type": "stream",
     "text": [
      "/home/ubuntu/workspace/kobaco/sketchy/U-2-Net/test_data/test_portrait_images/api_results/806935H01_1_21-HC-06-031_00200rb.png\n"
     ]
    },
    {
     "name": "stderr",
     "output_type": "stream",
     "text": [
      "127.0.0.1 - - [01/Oct/2021 14:26:23] \"POST /sketch_thick HTTP/1.1\" 200 -\n",
      "127.0.0.1 - - [01/Oct/2021 14:26:23] \"POST /remove_bg HTTP/1.1\" 200 -\n",
      "127.0.0.1 - - [01/Oct/2021 14:26:23] \"POST /sketch_thin HTTP/1.1\" 200 -\n"
     ]
    },
    {
     "name": "stdout",
     "output_type": "stream",
     "text": [
      "/home/ubuntu/workspace/kobaco/sketchy/U-2-Net/test_data/test_portrait_images/api_results/804613H01_1_21-TJ-04-118_00296rb.png\n"
     ]
    },
    {
     "name": "stderr",
     "output_type": "stream",
     "text": [
      "127.0.0.1 - - [01/Oct/2021 14:26:24] \"POST /sketch_thick HTTP/1.1\" 200 -\n",
      "127.0.0.1 - - [01/Oct/2021 14:26:24] \"POST /remove_bg HTTP/1.1\" 200 -\n",
      "127.0.0.1 - - [01/Oct/2021 14:26:25] \"POST /sketch_thin HTTP/1.1\" 200 -\n"
     ]
    },
    {
     "name": "stdout",
     "output_type": "stream",
     "text": [
      "/home/ubuntu/workspace/kobaco/sketchy/U-2-Net/test_data/test_portrait_images/api_results/804609H01_1_21-TJ-04-111_00022rb.png\n"
     ]
    },
    {
     "name": "stderr",
     "output_type": "stream",
     "text": [
      "127.0.0.1 - - [01/Oct/2021 14:26:25] \"POST /sketch_thick HTTP/1.1\" 200 -\n",
      "127.0.0.1 - - [01/Oct/2021 14:26:26] \"POST /remove_bg HTTP/1.1\" 200 -\n",
      "127.0.0.1 - - [01/Oct/2021 14:26:26] \"POST /sketch_thin HTTP/1.1\" 200 -\n"
     ]
    },
    {
     "name": "stdout",
     "output_type": "stream",
     "text": [
      "/home/ubuntu/workspace/kobaco/sketchy/U-2-Net/test_data/test_portrait_images/api_results/804486H01_1_21-TJ-04-027_00534rb.png\n"
     ]
    },
    {
     "name": "stderr",
     "output_type": "stream",
     "text": [
      "127.0.0.1 - - [01/Oct/2021 14:26:27] \"POST /sketch_thick HTTP/1.1\" 200 -\n",
      "127.0.0.1 - - [01/Oct/2021 14:26:27] \"POST /remove_bg HTTP/1.1\" 200 -\n",
      "127.0.0.1 - - [01/Oct/2021 14:26:27] \"POST /sketch_thin HTTP/1.1\" 200 -\n"
     ]
    },
    {
     "name": "stdout",
     "output_type": "stream",
     "text": [
      "/home/ubuntu/workspace/kobaco/sketchy/U-2-Net/test_data/test_portrait_images/api_results/806288H01_1_21-TH-05-996_00852rb.png\n"
     ]
    },
    {
     "name": "stderr",
     "output_type": "stream",
     "text": [
      "127.0.0.1 - - [01/Oct/2021 14:26:28] \"POST /sketch_thick HTTP/1.1\" 200 -\n",
      "127.0.0.1 - - [01/Oct/2021 14:26:28] \"POST /remove_bg HTTP/1.1\" 200 -\n",
      "127.0.0.1 - - [01/Oct/2021 14:26:29] \"POST /sketch_thin HTTP/1.1\" 200 -\n"
     ]
    },
    {
     "name": "stdout",
     "output_type": "stream",
     "text": [
      "/home/ubuntu/workspace/kobaco/sketchy/U-2-Net/test_data/test_portrait_images/api_results/806280H01_1_21-TH-05-995_00036rb.png\n"
     ]
    },
    {
     "name": "stderr",
     "output_type": "stream",
     "text": [
      "127.0.0.1 - - [01/Oct/2021 14:26:30] \"POST /sketch_thick HTTP/1.1\" 200 -\n",
      "127.0.0.1 - - [01/Oct/2021 14:26:30] \"POST /remove_bg HTTP/1.1\" 200 -\n",
      "127.0.0.1 - - [01/Oct/2021 14:26:31] \"POST /sketch_thin HTTP/1.1\" 200 -\n"
     ]
    },
    {
     "name": "stdout",
     "output_type": "stream",
     "text": [
      "/home/ubuntu/workspace/kobaco/sketchy/U-2-Net/test_data/test_portrait_images/api_results/806278H01_1_21-TH-05-990_00746rb.png\n"
     ]
    },
    {
     "name": "stderr",
     "output_type": "stream",
     "text": [
      "127.0.0.1 - - [01/Oct/2021 14:26:31] \"POST /sketch_thick HTTP/1.1\" 200 -\n",
      "127.0.0.1 - - [01/Oct/2021 14:26:31] \"POST /remove_bg HTTP/1.1\" 200 -\n",
      "127.0.0.1 - - [01/Oct/2021 14:26:32] \"POST /sketch_thin HTTP/1.1\" 200 -\n"
     ]
    },
    {
     "name": "stdout",
     "output_type": "stream",
     "text": [
      "/home/ubuntu/workspace/kobaco/sketchy/U-2-Net/test_data/test_portrait_images/api_results/806278H01_1_21-TH-05-990_00654rb.png\n"
     ]
    },
    {
     "name": "stderr",
     "output_type": "stream",
     "text": [
      "127.0.0.1 - - [01/Oct/2021 14:26:32] \"POST /sketch_thick HTTP/1.1\" 200 -\n",
      "127.0.0.1 - - [01/Oct/2021 14:26:33] \"POST /remove_bg HTTP/1.1\" 200 -\n",
      "127.0.0.1 - - [01/Oct/2021 14:26:33] \"POST /sketch_thin HTTP/1.1\" 200 -\n",
      "127.0.0.1 - - [01/Oct/2021 14:26:34] \"POST /remove_bg HTTP/1.1\" 200 -\n",
      "127.0.0.1 - - [01/Oct/2021 14:26:34] \"POST /sketch_thin HTTP/1.1\" 200 -\n"
     ]
    },
    {
     "name": "stdout",
     "output_type": "stream",
     "text": [
      "/home/ubuntu/workspace/kobaco/sketchy/U-2-Net/test_data/test_portrait_images/api_results/806268H01_1_21-HC-05-108_00492rb.png\n"
     ]
    },
    {
     "name": "stderr",
     "output_type": "stream",
     "text": [
      "127.0.0.1 - - [01/Oct/2021 14:26:35] \"POST /sketch_thick HTTP/1.1\" 200 -\n",
      "127.0.0.1 - - [01/Oct/2021 14:26:35] \"POST /remove_bg HTTP/1.1\" 200 -\n",
      "127.0.0.1 - - [01/Oct/2021 14:26:36] \"POST /sketch_thin HTTP/1.1\" 200 -\n"
     ]
    },
    {
     "name": "stdout",
     "output_type": "stream",
     "text": [
      "/home/ubuntu/workspace/kobaco/sketchy/U-2-Net/test_data/test_portrait_images/api_results/806268H01_1_21-HC-05-108_00280rb.png\n"
     ]
    },
    {
     "name": "stderr",
     "output_type": "stream",
     "text": [
      "127.0.0.1 - - [01/Oct/2021 14:26:36] \"POST /sketch_thick HTTP/1.1\" 200 -\n",
      "127.0.0.1 - - [01/Oct/2021 14:26:37] \"POST /remove_bg HTTP/1.1\" 200 -\n",
      "127.0.0.1 - - [01/Oct/2021 14:26:37] \"POST /sketch_thin HTTP/1.1\" 200 -\n"
     ]
    },
    {
     "name": "stdout",
     "output_type": "stream",
     "text": [
      "/home/ubuntu/workspace/kobaco/sketchy/U-2-Net/test_data/test_portrait_images/api_results/806268H01_1_21-HC-05-108_00194rb.png\n"
     ]
    },
    {
     "name": "stderr",
     "output_type": "stream",
     "text": [
      "127.0.0.1 - - [01/Oct/2021 14:26:38] \"POST /sketch_thick HTTP/1.1\" 200 -\n",
      "127.0.0.1 - - [01/Oct/2021 14:26:38] \"POST /remove_bg HTTP/1.1\" 200 -\n",
      "127.0.0.1 - - [01/Oct/2021 14:26:39] \"POST /sketch_thin HTTP/1.1\" 200 -\n"
     ]
    },
    {
     "name": "stdout",
     "output_type": "stream",
     "text": [
      "/home/ubuntu/workspace/kobaco/sketchy/U-2-Net/test_data/test_portrait_images/api_results/806268H01_1_21-HC-05-108_00104rb.png\n"
     ]
    },
    {
     "name": "stderr",
     "output_type": "stream",
     "text": [
      "127.0.0.1 - - [01/Oct/2021 14:26:39] \"POST /sketch_thick HTTP/1.1\" 200 -\n",
      "127.0.0.1 - - [01/Oct/2021 14:26:39] \"POST /remove_bg HTTP/1.1\" 200 -\n",
      "127.0.0.1 - - [01/Oct/2021 14:26:40] \"POST /sketch_thin HTTP/1.1\" 200 -\n"
     ]
    },
    {
     "name": "stdout",
     "output_type": "stream",
     "text": [
      "/home/ubuntu/workspace/kobaco/sketchy/U-2-Net/test_data/test_portrait_images/api_results/806266H01_1_21-TH-05-977_00868rb.png\n"
     ]
    },
    {
     "name": "stderr",
     "output_type": "stream",
     "text": [
      "127.0.0.1 - - [01/Oct/2021 14:26:40] \"POST /sketch_thick HTTP/1.1\" 200 -\n",
      "127.0.0.1 - - [01/Oct/2021 14:26:41] \"POST /remove_bg HTTP/1.1\" 200 -\n",
      "127.0.0.1 - - [01/Oct/2021 14:26:41] \"POST /sketch_thin HTTP/1.1\" 200 -\n"
     ]
    },
    {
     "name": "stdout",
     "output_type": "stream",
     "text": [
      "/home/ubuntu/workspace/kobaco/sketchy/U-2-Net/test_data/test_portrait_images/api_results/806266H01_1_21-TH-05-977_00690rb.png\n"
     ]
    },
    {
     "name": "stderr",
     "output_type": "stream",
     "text": [
      "127.0.0.1 - - [01/Oct/2021 14:26:42] \"POST /sketch_thick HTTP/1.1\" 200 -\n",
      "127.0.0.1 - - [01/Oct/2021 14:26:42] \"POST /remove_bg HTTP/1.1\" 200 -\n",
      "127.0.0.1 - - [01/Oct/2021 14:26:43] \"POST /sketch_thin HTTP/1.1\" 200 -\n"
     ]
    },
    {
     "name": "stdout",
     "output_type": "stream",
     "text": [
      "/home/ubuntu/workspace/kobaco/sketchy/U-2-Net/test_data/test_portrait_images/api_results/806252H01_1_21-TH-05-958_00864rb.png\n"
     ]
    },
    {
     "name": "stderr",
     "output_type": "stream",
     "text": [
      "127.0.0.1 - - [01/Oct/2021 14:26:43] \"POST /sketch_thick HTTP/1.1\" 200 -\n",
      "127.0.0.1 - - [01/Oct/2021 14:26:44] \"POST /remove_bg HTTP/1.1\" 200 -\n",
      "127.0.0.1 - - [01/Oct/2021 14:26:44] \"POST /sketch_thin HTTP/1.1\" 200 -\n"
     ]
    },
    {
     "name": "stdout",
     "output_type": "stream",
     "text": [
      "/home/ubuntu/workspace/kobaco/sketchy/U-2-Net/test_data/test_portrait_images/api_results/806252H01_1_21-TH-05-958_00638rb.png\n"
     ]
    },
    {
     "name": "stderr",
     "output_type": "stream",
     "text": [
      "127.0.0.1 - - [01/Oct/2021 14:26:45] \"POST /sketch_thick HTTP/1.1\" 200 -\n",
      "127.0.0.1 - - [01/Oct/2021 14:26:45] \"POST /remove_bg HTTP/1.1\" 200 -\n",
      "127.0.0.1 - - [01/Oct/2021 14:26:46] \"POST /sketch_thin HTTP/1.1\" 200 -\n"
     ]
    },
    {
     "name": "stdout",
     "output_type": "stream",
     "text": [
      "/home/ubuntu/workspace/kobaco/sketchy/U-2-Net/test_data/test_portrait_images/api_results/806252H01_1_21-TH-05-958_00366rb.png\n"
     ]
    },
    {
     "name": "stderr",
     "output_type": "stream",
     "text": [
      "127.0.0.1 - - [01/Oct/2021 14:26:46] \"POST /sketch_thick HTTP/1.1\" 200 -\n",
      "127.0.0.1 - - [01/Oct/2021 14:26:47] \"POST /remove_bg HTTP/1.1\" 200 -\n",
      "127.0.0.1 - - [01/Oct/2021 14:26:47] \"POST /sketch_thin HTTP/1.1\" 200 -\n",
      "127.0.0.1 - - [01/Oct/2021 14:26:47] \"POST /remove_bg HTTP/1.1\" 200 -\n",
      "127.0.0.1 - - [01/Oct/2021 14:26:48] \"POST /sketch_thin HTTP/1.1\" 200 -\n"
     ]
    },
    {
     "name": "stdout",
     "output_type": "stream",
     "text": [
      "/home/ubuntu/workspace/kobaco/sketchy/U-2-Net/test_data/test_portrait_images/api_results/806240H01_1_21-TH-05-950_00734rb.png\n"
     ]
    },
    {
     "name": "stderr",
     "output_type": "stream",
     "text": [
      "127.0.0.1 - - [01/Oct/2021 14:26:48] \"POST /sketch_thick HTTP/1.1\" 200 -\n",
      "127.0.0.1 - - [01/Oct/2021 14:26:49] \"POST /remove_bg HTTP/1.1\" 200 -\n",
      "127.0.0.1 - - [01/Oct/2021 14:26:49] \"POST /sketch_thin HTTP/1.1\" 200 -\n"
     ]
    },
    {
     "name": "stdout",
     "output_type": "stream",
     "text": [
      "/home/ubuntu/workspace/kobaco/sketchy/U-2-Net/test_data/test_portrait_images/api_results/806240H01_1_21-TH-05-950_00474rb.png\n"
     ]
    },
    {
     "name": "stderr",
     "output_type": "stream",
     "text": [
      "127.0.0.1 - - [01/Oct/2021 14:26:50] \"POST /sketch_thick HTTP/1.1\" 200 -\n",
      "127.0.0.1 - - [01/Oct/2021 14:26:50] \"POST /remove_bg HTTP/1.1\" 200 -\n",
      "127.0.0.1 - - [01/Oct/2021 14:26:50] \"POST /sketch_thin HTTP/1.1\" 200 -\n"
     ]
    },
    {
     "name": "stdout",
     "output_type": "stream",
     "text": [
      "/home/ubuntu/workspace/kobaco/sketchy/U-2-Net/test_data/test_portrait_images/api_results/806240H01_1_21-TH-05-950_00096rb.png\n"
     ]
    },
    {
     "name": "stderr",
     "output_type": "stream",
     "text": [
      "127.0.0.1 - - [01/Oct/2021 14:26:51] \"POST /sketch_thick HTTP/1.1\" 200 -\n",
      "127.0.0.1 - - [01/Oct/2021 14:26:51] \"POST /remove_bg HTTP/1.1\" 200 -\n",
      "127.0.0.1 - - [01/Oct/2021 14:26:52] \"POST /sketch_thin HTTP/1.1\" 200 -\n"
     ]
    },
    {
     "name": "stdout",
     "output_type": "stream",
     "text": [
      "/home/ubuntu/workspace/kobaco/sketchy/U-2-Net/test_data/test_portrait_images/api_results/806237H01_1_21-TH-05-952_00132rb.png\n"
     ]
    },
    {
     "name": "stderr",
     "output_type": "stream",
     "text": [
      "127.0.0.1 - - [01/Oct/2021 14:26:52] \"POST /sketch_thick HTTP/1.1\" 200 -\n",
      "127.0.0.1 - - [01/Oct/2021 14:26:53] \"POST /remove_bg HTTP/1.1\" 200 -\n",
      "127.0.0.1 - - [01/Oct/2021 14:26:53] \"POST /sketch_thin HTTP/1.1\" 200 -\n"
     ]
    },
    {
     "name": "stdout",
     "output_type": "stream",
     "text": [
      "/home/ubuntu/workspace/kobaco/sketchy/U-2-Net/test_data/test_portrait_images/api_results/806233H01_1_21-HC-05-105_00329rb.png\n"
     ]
    },
    {
     "name": "stderr",
     "output_type": "stream",
     "text": [
      "127.0.0.1 - - [01/Oct/2021 14:26:54] \"POST /sketch_thick HTTP/1.1\" 200 -\n",
      "127.0.0.1 - - [01/Oct/2021 14:26:54] \"POST /remove_bg HTTP/1.1\" 200 -\n",
      "127.0.0.1 - - [01/Oct/2021 14:26:55] \"POST /sketch_thin HTTP/1.1\" 200 -\n"
     ]
    },
    {
     "name": "stdout",
     "output_type": "stream",
     "text": [
      "/home/ubuntu/workspace/kobaco/sketchy/U-2-Net/test_data/test_portrait_images/api_results/806229H01_1_21-TH-05-941_00329rb.png\n"
     ]
    },
    {
     "name": "stderr",
     "output_type": "stream",
     "text": [
      "127.0.0.1 - - [01/Oct/2021 14:26:55] \"POST /sketch_thick HTTP/1.1\" 200 -\n",
      "127.0.0.1 - - [01/Oct/2021 14:26:56] \"POST /remove_bg HTTP/1.1\" 200 -\n",
      "127.0.0.1 - - [01/Oct/2021 14:26:56] \"POST /sketch_thin HTTP/1.1\" 200 -\n"
     ]
    },
    {
     "name": "stdout",
     "output_type": "stream",
     "text": [
      "/home/ubuntu/workspace/kobaco/sketchy/U-2-Net/test_data/test_portrait_images/api_results/806229H01_1_21-TH-05-941_00238rb.png\n"
     ]
    },
    {
     "name": "stderr",
     "output_type": "stream",
     "text": [
      "127.0.0.1 - - [01/Oct/2021 14:26:57] \"POST /sketch_thick HTTP/1.1\" 200 -\n",
      "127.0.0.1 - - [01/Oct/2021 14:26:57] \"POST /remove_bg HTTP/1.1\" 200 -\n",
      "127.0.0.1 - - [01/Oct/2021 14:26:58] \"POST /sketch_thin HTTP/1.1\" 200 -\n"
     ]
    },
    {
     "name": "stdout",
     "output_type": "stream",
     "text": [
      "/home/ubuntu/workspace/kobaco/sketchy/U-2-Net/test_data/test_portrait_images/api_results/806226H01_1_21-TH-05-938_00950rb.png\n"
     ]
    },
    {
     "name": "stderr",
     "output_type": "stream",
     "text": [
      "127.0.0.1 - - [01/Oct/2021 14:26:58] \"POST /sketch_thick HTTP/1.1\" 200 -\n",
      "127.0.0.1 - - [01/Oct/2021 14:26:58] \"POST /remove_bg HTTP/1.1\" 200 -\n",
      "127.0.0.1 - - [01/Oct/2021 14:26:59] \"POST /sketch_thin HTTP/1.1\" 200 -\n"
     ]
    },
    {
     "name": "stdout",
     "output_type": "stream",
     "text": [
      "/home/ubuntu/workspace/kobaco/sketchy/U-2-Net/test_data/test_portrait_images/api_results/807181H01_1_21-TH-06-520_00049rb.png\n"
     ]
    },
    {
     "name": "stderr",
     "output_type": "stream",
     "text": [
      "127.0.0.1 - - [01/Oct/2021 14:26:59] \"POST /sketch_thick HTTP/1.1\" 200 -\n",
      "127.0.0.1 - - [01/Oct/2021 14:27:00] \"POST /remove_bg HTTP/1.1\" 200 -\n",
      "127.0.0.1 - - [01/Oct/2021 14:27:00] \"POST /sketch_thin HTTP/1.1\" 200 -\n"
     ]
    },
    {
     "name": "stdout",
     "output_type": "stream",
     "text": [
      "/home/ubuntu/workspace/kobaco/sketchy/U-2-Net/test_data/test_portrait_images/api_results/807179H01_1_21-TH-06-515_00354rb.png\n"
     ]
    },
    {
     "name": "stderr",
     "output_type": "stream",
     "text": [
      "127.0.0.1 - - [01/Oct/2021 14:27:01] \"POST /sketch_thick HTTP/1.1\" 200 -\n",
      "127.0.0.1 - - [01/Oct/2021 14:27:01] \"POST /remove_bg HTTP/1.1\" 200 -\n",
      "127.0.0.1 - - [01/Oct/2021 14:27:02] \"POST /sketch_thin HTTP/1.1\" 200 -\n"
     ]
    },
    {
     "name": "stdout",
     "output_type": "stream",
     "text": [
      "/home/ubuntu/workspace/kobaco/sketchy/U-2-Net/test_data/test_portrait_images/api_results/807176H01_1_21-TH-06-517_00196rb.png\n"
     ]
    },
    {
     "name": "stderr",
     "output_type": "stream",
     "text": [
      "127.0.0.1 - - [01/Oct/2021 14:27:02] \"POST /sketch_thick HTTP/1.1\" 200 -\n",
      "127.0.0.1 - - [01/Oct/2021 14:27:02] \"POST /remove_bg HTTP/1.1\" 200 -\n",
      "127.0.0.1 - - [01/Oct/2021 14:27:03] \"POST /sketch_thin HTTP/1.1\" 200 -\n"
     ]
    },
    {
     "name": "stdout",
     "output_type": "stream",
     "text": [
      "/home/ubuntu/workspace/kobaco/sketchy/U-2-Net/test_data/test_portrait_images/api_results/807175H01_1_21-TH-06-518_00022rb.png\n"
     ]
    },
    {
     "name": "stderr",
     "output_type": "stream",
     "text": [
      "127.0.0.1 - - [01/Oct/2021 14:27:03] \"POST /sketch_thick HTTP/1.1\" 200 -\n",
      "127.0.0.1 - - [01/Oct/2021 14:27:04] \"POST /remove_bg HTTP/1.1\" 200 -\n",
      "127.0.0.1 - - [01/Oct/2021 14:27:04] \"POST /sketch_thin HTTP/1.1\" 200 -\n"
     ]
    },
    {
     "name": "stdout",
     "output_type": "stream",
     "text": [
      "/home/ubuntu/workspace/kobaco/sketchy/U-2-Net/test_data/test_portrait_images/api_results/807156H01_1_21-TH-06-514_00337rb.png\n"
     ]
    },
    {
     "name": "stderr",
     "output_type": "stream",
     "text": [
      "127.0.0.1 - - [01/Oct/2021 14:27:05] \"POST /sketch_thick HTTP/1.1\" 200 -\n",
      "127.0.0.1 - - [01/Oct/2021 14:27:05] \"POST /remove_bg HTTP/1.1\" 200 -\n",
      "127.0.0.1 - - [01/Oct/2021 14:27:06] \"POST /sketch_thin HTTP/1.1\" 200 -\n"
     ]
    },
    {
     "name": "stdout",
     "output_type": "stream",
     "text": [
      "/home/ubuntu/workspace/kobaco/sketchy/U-2-Net/test_data/test_portrait_images/api_results/807156H01_1_21-TH-06-514_00212rb.png\n"
     ]
    },
    {
     "name": "stderr",
     "output_type": "stream",
     "text": [
      "127.0.0.1 - - [01/Oct/2021 14:27:07] \"POST /sketch_thick HTTP/1.1\" 200 -\n",
      "127.0.0.1 - - [01/Oct/2021 14:27:07] \"POST /remove_bg HTTP/1.1\" 200 -\n",
      "127.0.0.1 - - [01/Oct/2021 14:27:07] \"POST /sketch_thin HTTP/1.1\" 200 -\n"
     ]
    },
    {
     "name": "stdout",
     "output_type": "stream",
     "text": [
      "/home/ubuntu/workspace/kobaco/sketchy/U-2-Net/test_data/test_portrait_images/api_results/807151H01_1_21-TH-06-509_00728rb.png\n"
     ]
    },
    {
     "name": "stderr",
     "output_type": "stream",
     "text": [
      "127.0.0.1 - - [01/Oct/2021 14:27:08] \"POST /sketch_thick HTTP/1.1\" 200 -\n"
     ]
    }
   ],
   "source": [
    "if __name__ == '__main__':\n",
    "    app.run(host='0.0.0.0', port=8899, debug=False)"
   ]
  },
  {
   "cell_type": "code",
   "execution_count": null,
   "id": "edfe5c24",
   "metadata": {},
   "outputs": [],
   "source": []
  }
 ],
 "metadata": {
  "kernelspec": {
   "display_name": "dalle-pytorch",
   "language": "python",
   "name": "dalle-pytorch"
  },
  "language_info": {
   "codemirror_mode": {
    "name": "ipython",
    "version": 3
   },
   "file_extension": ".py",
   "mimetype": "text/x-python",
   "name": "python",
   "nbconvert_exporter": "python",
   "pygments_lexer": "ipython3",
   "version": "3.8.10"
  }
 },
 "nbformat": 4,
 "nbformat_minor": 5
}
